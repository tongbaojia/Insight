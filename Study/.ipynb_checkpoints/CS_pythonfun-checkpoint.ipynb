{
 "cells": [
  {
   "cell_type": "markdown",
   "metadata": {},
   "source": [
    "# For quick python tests~"
   ]
  },
  {
   "cell_type": "code",
   "execution_count": 10,
   "metadata": {},
   "outputs": [
    {
     "name": "stdout",
     "output_type": "stream",
     "text": [
      "10\n"
     ]
    }
   ],
   "source": [
    "print(1+2+3+4%5)"
   ]
  },
  {
   "cell_type": "code",
   "execution_count": 9,
   "metadata": {},
   "outputs": [
    {
     "name": "stdout",
     "output_type": "stream",
     "text": [
      "[0, 1]\n",
      "range(0, 100, 2)\n",
      "range(10, 40, 6)\n"
     ]
    }
   ],
   "source": [
    "## a:b:c starting a, end b, step c\n",
    "a = [8, 0, 4, 6, 1]\n",
    "print(a[1::3])\n",
    "x = range(100)\n",
    "print(x[::2])\n",
    "print(x[10:40:6])"
   ]
  },
  {
   "cell_type": "code",
   "execution_count": 5,
   "metadata": {},
   "outputs": [],
   "source": [
    "import time as time"
   ]
  },
  {
   "cell_type": "code",
   "execution_count": 13,
   "metadata": {},
   "outputs": [
    {
     "name": "stdout",
     "output_type": "stream",
     "text": [
      "34\n",
      "time 0.0008051\n"
     ]
    }
   ],
   "source": [
    "start = time.time()\n",
    "def Fibonacci(n):\n",
    "    if n<0:\n",
    "        print(\"Incorrect input\")\n",
    "    # First Fibonacci number is 0\n",
    "    elif n==0:\n",
    "        return 0\n",
    "    elif n==1:\n",
    "        return 0\n",
    "    # Second Fibonacci number is 1\n",
    "    elif n==2:\n",
    "        return 1\n",
    "    else:\n",
    "        return Fibonacci(n-1)+Fibonacci(n-2)\n",
    " \n",
    "# Driver Program\n",
    " \n",
    "print(Fibonacci(10))\n",
    "print(\"time %.7f\" % (time.time() - start))"
   ]
  },
  {
   "cell_type": "code",
   "execution_count": 16,
   "metadata": {},
   "outputs": [
    {
     "name": "stdout",
     "output_type": "stream",
     "text": [
      "55\n",
      "time 0.0006988\n"
     ]
    }
   ],
   "source": [
    "start = time.time()\n",
    "MAX = 1000\n",
    " \n",
    "# Create an array for memoization\n",
    "f = [0] * MAX\n",
    " \n",
    "# Returns n'th fuibonacci number using table f[]\n",
    "def fib(n) :\n",
    "    # Base cases\n",
    "    if (n == 0) :\n",
    "        return 0\n",
    "    if (n == 1 or n == 2) :\n",
    "        f[n] = 1\n",
    "        return (f[n])\n",
    " \n",
    "    # If fib(n) is already computed\n",
    "    if (f[n]) :\n",
    "        return f[n]\n",
    " \n",
    "    if( n & 1) :\n",
    "        k = (n + 1) // 2\n",
    "    else : \n",
    "        k = n // 2\n",
    " \n",
    "    # Applyting above formula [Note value n&1 is 1\n",
    "    # if n is odd, else 0.\n",
    "    if((n & 1) ) :\n",
    "        f[n] = (fib(k) * fib(k) + fib(k-1) * fib(k-1))\n",
    "    else :\n",
    "        f[n] = (2*fib(k-1) + fib(k))*fib(k)\n",
    " \n",
    "    return f[n]\n",
    " \n",
    " \n",
    "# Driver code\n",
    "n = 10\n",
    "print(fib(n))\n",
    "print(\"time %.7f\" % (time.time() - start))\n",
    " "
   ]
  },
  {
   "cell_type": "code",
   "execution_count": 17,
   "metadata": {},
   "outputs": [],
   "source": []
  },
  {
   "cell_type": "code",
   "execution_count": 44,
   "metadata": {},
   "outputs": [
    {
     "name": "stdout",
     "output_type": "stream",
     "text": [
      "[[ 572.  494.  416.  338.  260.  182.  104.   26.  -52. -130. -208. -286.]\n",
      " [ -66.  -54.  -42.  -30.  -18.   -6.    6.   18.   30.   42.   54.   66.]]\n"
     ]
    }
   ],
   "source": [
    "import numpy as np\n",
    "X = [] #np.array([[1, 1], [1, 2], [1, 3]])\n",
    "for i in range(12):\n",
    "    X.append([1, i + 1])\n",
    "X = np.array(X)\n",
    "print(np.linalg.inv((X.T.dot(X))).dot(X.T) * 1716) #1716"
   ]
  },
  {
   "cell_type": "code",
   "execution_count": 10,
   "metadata": {},
   "outputs": [
    {
     "name": "stdout",
     "output_type": "stream",
     "text": [
      "21 14\n",
      "14 7\n",
      "7\n"
     ]
    }
   ],
   "source": [
    "def gcd(m,n):\n",
    "    while m%n != 0:\n",
    "        oldm = m\n",
    "        oldn = n\n",
    "\n",
    "        m = oldn\n",
    "        n = oldm%oldn\n",
    "        print(m, n)\n",
    "    return n\n",
    "\n",
    "print(gcd(1001, 21))"
   ]
  },
  {
   "cell_type": "code",
   "execution_count": null,
   "metadata": {},
   "outputs": [],
   "source": []
  }
 ],
 "metadata": {
  "kernelspec": {
   "display_name": "Python 3",
   "language": "python",
   "name": "python3"
  },
  "language_info": {
   "codemirror_mode": {
    "name": "ipython",
    "version": 3
   },
   "file_extension": ".py",
   "mimetype": "text/x-python",
   "name": "python",
   "nbconvert_exporter": "python",
   "pygments_lexer": "ipython3",
   "version": "3.6.6"
  },
  "toc": {
   "base_numbering": 1,
   "nav_menu": {},
   "number_sections": true,
   "sideBar": true,
   "skip_h1_title": false,
   "title_cell": "Table of Contents",
   "title_sidebar": "Contents",
   "toc_cell": false,
   "toc_position": {},
   "toc_section_display": true,
   "toc_window_display": false
  }
 },
 "nbformat": 4,
 "nbformat_minor": 2
}
